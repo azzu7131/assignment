{
 "cells": [
  {
   "cell_type": "code",
   "execution_count": null,
   "id": "380e12b1-7380-42df-be96-2f04a4a6ba0a",
   "metadata": {},
   "outputs": [],
   "source": [
    "Q1. Which keyword is used to create a function? Create a function to return a list of odd numbers in the\n",
    "range of 1 to 25."
   ]
  },
  {
   "cell_type": "markdown",
   "id": "37f25818-f9ae-4d42-a899-08b9b23cee9c",
   "metadata": {},
   "source": [
    "\"def\" is used to create function ."
   ]
  },
  {
   "cell_type": "code",
   "execution_count": 50,
   "id": "40125450-a584-4fdb-a979-bd1311abb05f",
   "metadata": {},
   "outputs": [
    {
     "name": "stdout",
     "output_type": "stream",
     "text": [
      "[1, 3, 5, 7, 9, 11, 13, 15, 17, 19, 21, 23, 25]\n"
     ]
    }
   ],
   "source": [
    "def odd_numbers(n):\n",
    "    odd_list =[]\n",
    "    for i in range(1,n+1):\n",
    "        if i % 2 !=0:\n",
    "            odd_list.append(i)\n",
    "    return odd_list\n",
    "\n",
    "print(odd_numbers(25))"
   ]
  },
  {
   "cell_type": "markdown",
   "id": "d891e93d-ce85-4f5c-b826-dd9a8f3b687b",
   "metadata": {},
   "source": [
    "Q2. Why *args and **kwargs is used in some functions? Create a function each for *args and **kwargs\n",
    "to demonstrate their use."
   ]
  },
  {
   "cell_type": "markdown",
   "id": "442c5e03-17ed-496e-8d1b-f44eccc4904f",
   "metadata": {},
   "source": [
    "*args  is used to pass unlimited  argument in fuction,\"args\" is not a fuction its just a simple keyword we can used any word like , \"Azzu\".\n",
    "\n",
    "**kwargs when user want dictionary format value that time we used **kwargs "
   ]
  },
  {
   "cell_type": "code",
   "execution_count": 53,
   "id": "c8a962bc-213f-446f-b753-181594dc0315",
   "metadata": {},
   "outputs": [],
   "source": [
    "def test1(*args):\n",
    "    return args"
   ]
  },
  {
   "cell_type": "code",
   "execution_count": 56,
   "id": "634e38bc-3c7e-4e94-b714-c42ed14b27e8",
   "metadata": {},
   "outputs": [
    {
     "data": {
      "text/plain": [
       "(1, 2, 3, 4, 5, 'azzu', 'pwskills')"
      ]
     },
     "execution_count": 56,
     "metadata": {},
     "output_type": "execute_result"
    }
   ],
   "source": [
    "test1(1,2,3,4,5,\"azzu\",\"pwskills\")"
   ]
  },
  {
   "cell_type": "code",
   "execution_count": 57,
   "id": "26182d55-1a5c-4975-a82c-8c2f6cea05e4",
   "metadata": {},
   "outputs": [],
   "source": [
    "def test2(**kwargs):\n",
    "    return kwargs"
   ]
  },
  {
   "cell_type": "code",
   "execution_count": 58,
   "id": "86f5d2c1-6244-4012-861d-f053d9bacee2",
   "metadata": {},
   "outputs": [
    {
     "data": {
      "text/plain": [
       "{'a': [1, 2, 3, 4, 5, 6], 'b': 'Azzu', 'c': 234.01}"
      ]
     },
     "execution_count": 58,
     "metadata": {},
     "output_type": "execute_result"
    }
   ],
   "source": [
    "test2(a=[1,2,3,4,5,6],b=\"Azzu\",c=234.01)"
   ]
  },
  {
   "cell_type": "markdown",
   "id": "e34a40d8-aa32-4d89-a29b-237f3bb3ece6",
   "metadata": {},
   "source": [
    "Q3. What is an iterator in python? Name the method used to initialise the iterator object and the method\n",
    "used for iteration. Use these methods to print the first five elements of the given list [2, 4, 6, 8, 10, 12, 14,\n",
    "16, 18, 20]."
   ]
  },
  {
   "cell_type": "markdown",
   "id": "2fbd9950-bd0d-495e-8e9d-66510d7348bc",
   "metadata": {},
   "source": [
    "iterator in Python is an object that implements the iterator protocol, which consists of the methods __iter__() and __next__(). An object is called an iterator when it can be iterated (looped) upon, producing a sequence of values, until it raises a StopIteration exception indicating the end of the iteration."
   ]
  },
  {
   "cell_type": "markdown",
   "id": "7886b96d-1edd-4ed5-8565-d9c4e653ccd0",
   "metadata": {},
   "source": [
    "The __iter__() method is used to initialize the iterator object, and the __next__() method is used for iteration. The __iter__() method returns the iterator object and the __next__() method returns the next value in the iteration. "
   ]
  },
  {
   "cell_type": "code",
   "execution_count": 2,
   "id": "8adcbb20-0721-4095-8bac-1b5da84cabd6",
   "metadata": {},
   "outputs": [
    {
     "name": "stdout",
     "output_type": "stream",
     "text": [
      "2\n",
      "4\n",
      "6\n",
      "8\n",
      "10\n"
     ]
    }
   ],
   "source": [
    "l = [2, 4, 6, 8, 10, 12, 14, 16, 18, 20]\n",
    "it = iter(l)\n",
    "\n",
    "for i in range(5):\n",
    "    print(next(it))"
   ]
  },
  {
   "cell_type": "markdown",
   "id": "a260e4c6-9e6d-4e1b-a423-70bd8a2d8304",
   "metadata": {},
   "source": [
    "Q4. What is a generator function in python? Why yield keyword is used? Give an example of a generator\n",
    "function."
   ]
  },
  {
   "cell_type": "markdown",
   "id": "7cd37b5e-e379-4f7d-bf4c-4b0592b03c13",
   "metadata": {},
   "source": [
    "Generator function is special type of function.generator function is ganerate our data 1 by 1 and store it."
   ]
  },
  {
   "cell_type": "code",
   "execution_count": 4,
   "id": "7c169719-76c7-48c5-b670-8701c681c68f",
   "metadata": {},
   "outputs": [],
   "source": [
    "def test_fib(n):\n",
    "    a,b = 0,1\n",
    "    for i in range(n):\n",
    "        yield a\n",
    "        a,b =b , a+b\n",
    "        "
   ]
  },
  {
   "cell_type": "code",
   "execution_count": 5,
   "id": "830cd16b-78e0-49d1-95c0-1288f1c722de",
   "metadata": {},
   "outputs": [
    {
     "name": "stdout",
     "output_type": "stream",
     "text": [
      "0\n",
      "1\n",
      "1\n",
      "2\n",
      "3\n",
      "5\n",
      "8\n",
      "13\n",
      "21\n",
      "34\n"
     ]
    }
   ],
   "source": [
    "for i in test_fib(10):\n",
    "    print(i)"
   ]
  },
  {
   "cell_type": "markdown",
   "id": "f2aab885-7420-4b18-97b5-ca0a0b0b50cf",
   "metadata": {},
   "source": [
    "Q5. Create a generator function for prime numbers less than 1000. Use the next() method to print the first 20 prime numbers."
   ]
  },
  {
   "cell_type": "code",
   "execution_count": 1,
   "id": "3118bcf3-78df-4254-9bbe-99f0fff59771",
   "metadata": {},
   "outputs": [
    {
     "name": "stdout",
     "output_type": "stream",
     "text": [
      "None\n",
      "3\n",
      "5\n",
      "7\n",
      "11\n",
      "13\n",
      "17\n",
      "19\n",
      "23\n",
      "29\n",
      "31\n",
      "37\n",
      "41\n",
      "43\n",
      "47\n",
      "53\n",
      "59\n",
      "61\n",
      "67\n",
      "71\n"
     ]
    }
   ],
   "source": [
    "def prime_number():\n",
    "    yield \n",
    "    prime=[2]\n",
    "    num=3 \n",
    "    while num <1000:\n",
    "        is_prime = True\n",
    "        for p in prime:\n",
    "            if p*p >num:\n",
    "                break\n",
    "            if num%p==0:\n",
    "                is_prime  =False\n",
    "                break\n",
    "        if is_prime :\n",
    "            prime.append(num)\n",
    "            yield num\n",
    "        num+=2\n",
    "prime = prime_number()\n",
    "for i in range(20):\n",
    "    print(next(prime))"
   ]
  },
  {
   "cell_type": "markdown",
   "id": "114157f4-5032-440d-976f-526b1cb3262a",
   "metadata": {},
   "source": [
    "Q6. Write a python program to print the first 10 Fibonacci numbers using a while loop."
   ]
  },
  {
   "cell_type": "code",
   "execution_count": 17,
   "id": "add842f1-20d5-409a-9717-84f3264585e6",
   "metadata": {},
   "outputs": [],
   "source": [
    "def test_fib1():\n",
    "    a,b = 0,1\n",
    "    while True :\n",
    "        yield a\n",
    "        a,b =b , a+b "
   ]
  },
  {
   "cell_type": "code",
   "execution_count": 16,
   "id": "385ec4b1-2830-4bad-bfe2-bd86bc6810da",
   "metadata": {},
   "outputs": [],
   "source": [
    "fib = test_fib1()"
   ]
  },
  {
   "cell_type": "code",
   "execution_count": 18,
   "id": "a5bc4497-53ba-4b84-9625-5bc256345409",
   "metadata": {},
   "outputs": [
    {
     "name": "stdout",
     "output_type": "stream",
     "text": [
      "0\n",
      "1\n",
      "1\n",
      "2\n",
      "3\n",
      "5\n",
      "8\n",
      "13\n",
      "21\n",
      "34\n"
     ]
    }
   ],
   "source": [
    "for i in range(10):\n",
    "    print(next(fib))"
   ]
  },
  {
   "cell_type": "markdown",
   "id": "9c2751a9-bbd4-40ca-9d86-3f66c10622a9",
   "metadata": {},
   "source": [
    "Q7. Write a List Comprehension to iterate through the given string: ‘pwskills’.\n",
    "Expected output: ['p', 'w', 's', 'k', 'i', 'l', 'l', 's']"
   ]
  },
  {
   "cell_type": "code",
   "execution_count": 20,
   "id": "6855fb35-68cf-48b4-8deb-40ef9aaba194",
   "metadata": {},
   "outputs": [
    {
     "name": "stdout",
     "output_type": "stream",
     "text": [
      "['p', 'w', 's', 'k', 'i', 'l', 'l', 's']\n"
     ]
    }
   ],
   "source": [
    "string = \"pwskills\"\n",
    "n= [char for char in string]\n",
    "print(n)"
   ]
  },
  {
   "cell_type": "markdown",
   "id": "38fc072e-31ca-4974-a75e-d13291e7395e",
   "metadata": {},
   "source": [
    "Q8. Write a python program to check whether a given number is Palindrome or not using a while loop."
   ]
  },
  {
   "cell_type": "code",
   "execution_count": 1,
   "id": "338f00c8-1ce8-4126-98d4-463b637e9225",
   "metadata": {},
   "outputs": [
    {
     "name": "stdin",
     "output_type": "stream",
     "text": [
      "Enter a number:  121\n"
     ]
    },
    {
     "name": "stdout",
     "output_type": "stream",
     "text": [
      "121 is a palindrome.\n"
     ]
    }
   ],
   "source": [
    "def is_palindrome(num):\n",
    "    original_num = num\n",
    "    reverse_num = 0\n",
    "    while num > 0:\n",
    "        last_digit = num % 10\n",
    "        reverse_num = (reverse_num * 10) + last_digit\n",
    "        num = num // 10\n",
    "    if original_num == reverse_num:\n",
    "        return True\n",
    "    else:\n",
    "        return False\n",
    "\n",
    "number = int(input(\"Enter a number: \"))\n",
    "if is_palindrome(number):\n",
    "    print(f\"{number} is a palindrome.\")\n",
    "else:\n",
    "    print(f\"{number} is not a palindrome.\")"
   ]
  },
  {
   "cell_type": "markdown",
   "id": "0ff805db-562c-45ec-a817-304547fc0305",
   "metadata": {},
   "source": [
    "Q9. Write a code to print odd numbers from 1 to 100 using list comprehension."
   ]
  },
  {
   "cell_type": "code",
   "execution_count": 4,
   "id": "c5e60bd4-d968-4695-8442-685b78dc6c9e",
   "metadata": {},
   "outputs": [
    {
     "name": "stdout",
     "output_type": "stream",
     "text": [
      "[1, 3, 5, 7, 9, 11, 13, 15, 17, 19, 21, 23, 25, 27, 29, 31, 33, 35, 37, 39, 41, 43, 45, 47, 49, 51, 53, 55, 57, 59, 61, 63, 65, 67, 69, 71, 73, 75, 77, 79, 81, 83, 85, 87, 89, 91, 93, 95, 97, 99]\n"
     ]
    }
   ],
   "source": [
    "odd_numbers = [ i for i in range(1,101) if i%2 !=0]\n",
    "print(odd_numbers)"
   ]
  },
  {
   "cell_type": "code",
   "execution_count": null,
   "id": "447013b2-95ea-4da8-9327-8297a946a944",
   "metadata": {},
   "outputs": [],
   "source": []
  }
 ],
 "metadata": {
  "kernelspec": {
   "display_name": "Python 3 (ipykernel)",
   "language": "python",
   "name": "python3"
  },
  "language_info": {
   "codemirror_mode": {
    "name": "ipython",
    "version": 3
   },
   "file_extension": ".py",
   "mimetype": "text/x-python",
   "name": "python",
   "nbconvert_exporter": "python",
   "pygments_lexer": "ipython3",
   "version": "3.10.8"
  }
 },
 "nbformat": 4,
 "nbformat_minor": 5
}
