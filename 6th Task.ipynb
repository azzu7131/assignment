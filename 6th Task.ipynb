{
 "cells": [
  {
   "cell_type": "code",
   "execution_count": null,
   "id": "372292c8-09d3-4953-9008-07c102c26a66",
   "metadata": {},
   "outputs": [],
   "source": [
    "##Q1. Create a function which will take a list as an argument and return the product of all the numbers\n",
    "## creating a flat list.\n",
    "##Use the below-given list as an argument for your function."
   ]
  },
  {
   "cell_type": "code",
   "execution_count": 2,
   "id": "d71c9214-b83d-4fe5-a4e1-704487c494f1",
   "metadata": {},
   "outputs": [],
   "source": [
    "list1 = [1,2,3,4, [44,55,66, True], False, (34,56,78,89,34), {1,2,3,3,2,1}, {1:34, \"key2\": [55, 67, 78, 89], 4: (45,\n",
    "22, 61, 34)}, [56, 'data science'], 'Machine Learning']"
   ]
  },
  {
   "cell_type": "code",
   "execution_count": 30,
   "id": "cb20c2c5-fb69-4f2a-92da-09a38c8b441b",
   "metadata": {},
   "outputs": [],
   "source": [
    "def flatten_list_product(list1):\n",
    "    flat_list=[]\n",
    "    def flatten(list1):\n",
    "        for item in list1:\n",
    "            if isintance(item,(int,float)):\n",
    "                flat_list.append(item)\n",
    "            elif isinstance(item, (list, tuple)):\n",
    "                    flatten(item)\n",
    "            elif isinstance(item,dict):\n",
    "                for key , value in item.item():\n",
    "                    if isinstance(key,(int,float)):\n",
    "                        flat_list.append(value)\n",
    "                    if isinstance(value,(int,float)):\n",
    "                        flat_list.append(value)\n",
    "                    elif isinstance(value,(list,tuple,dict)):\n",
    "                        flatten(value)\n",
    "    flatten(list1)\n",
    "    product = 1\n",
    "    for num in flat_list:\n",
    "        product *=num\n",
    "    return product"
   ]
  },
  {
   "cell_type": "raw",
   "id": "4cc710f6-3bbf-4e57-b952-ddc27d690e67",
   "metadata": {},
   "source": [
    "Q2. Write a python program for encrypting a message sent to you by your friend. The logic of encryption\n",
    "should be such that, for a the output should be z. For b, the output should be y. For c, the output should\n",
    "be x respectively. Also, the whitespace should be replaced with a dollar sign. Keep the punctuation\n",
    "marks unchanged."
   ]
  },
  {
   "cell_type": "code",
   "execution_count": 38,
   "id": "cc8a6909-bf1d-4999-a5f1-4dfd06846c24",
   "metadata": {},
   "outputs": [
    {
     "name": "stdout",
     "output_type": "stream",
     "text": [
      "$r$dzmg$gl$yvxznv$z$wzgz$hxrvmgrhg.\n"
     ]
    }
   ],
   "source": [
    "def encrypt_message(message):\n",
    "    message = message.lower()\n",
    "    encrypted_message=\"\"\n",
    "    for char in message:\n",
    "        if char==' ':\n",
    "            encrypted_message +=\"$\"\n",
    "        elif char.isalpha():\n",
    "            encrypt_char=chr(122-ord(char)+97)\n",
    "            encrypted_message +=encrypt_char\n",
    "        else:\n",
    "            encrypted_message +=char\n",
    "    return encrypted_message\n",
    "message= \" i want to became a Data Scientist.\"\n",
    "encrypted_message= encrypt_message(message)\n",
    "print(encrypted_message)"
   ]
  },
  {
   "cell_type": "code",
   "execution_count": null,
   "id": "d70d46cb-e496-4cc6-80c9-357a9000f5fe",
   "metadata": {},
   "outputs": [],
   "source": []
  }
 ],
 "metadata": {
  "kernelspec": {
   "display_name": "Python 3 (ipykernel)",
   "language": "python",
   "name": "python3"
  },
  "language_info": {
   "codemirror_mode": {
    "name": "ipython",
    "version": 3
   },
   "file_extension": ".py",
   "mimetype": "text/x-python",
   "name": "python",
   "nbconvert_exporter": "python",
   "pygments_lexer": "ipython3",
   "version": "3.10.8"
  }
 },
 "nbformat": 4,
 "nbformat_minor": 5
}
