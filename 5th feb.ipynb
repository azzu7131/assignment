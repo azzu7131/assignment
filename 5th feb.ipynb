{
 "cells": [
  {
   "cell_type": "code",
   "execution_count": 1,
   "id": "518d2c71-6920-493e-a508-83c665a8fefe",
   "metadata": {},
   "outputs": [],
   "source": [
    "##Q1. Explain Class and Object with respect to Object-Oriented Programming. Give a suitable example."
   ]
  },
  {
   "cell_type": "code",
   "execution_count": 2,
   "id": "f6c070c1-d9b0-446a-b3ba-bb59eae1861a",
   "metadata": {},
   "outputs": [],
   "source": [
    "##Example"
   ]
  },
  {
   "cell_type": "code",
   "execution_count": 3,
   "id": "2805e418-ba32-4f9d-9ff6-41c676bdc6e3",
   "metadata": {},
   "outputs": [],
   "source": [
    "class bike:\n",
    "    def __init__(self,brand,model, year ):\n",
    "        self.brand = brand\n",
    "        self.model = model\n",
    "        self.year = year\n",
    "   \n",
    "    def return_bike_details(self):\n",
    "        return self.brand,self.model,self.year"
   ]
  },
  {
   "cell_type": "code",
   "execution_count": 11,
   "id": "1a0aeeb1-5acf-4955-ac52-2a8a603d13bf",
   "metadata": {},
   "outputs": [],
   "source": [
    "pulser=bike(\"bajaj\",\"220_cc\",2023)"
   ]
  },
  {
   "cell_type": "code",
   "execution_count": 12,
   "id": "dcb57bbc-b4ab-4f13-aa8e-9ebf51ba066a",
   "metadata": {},
   "outputs": [
    {
     "data": {
      "text/plain": [
       "('bajaj', '220_cc', 2023)"
      ]
     },
     "execution_count": 12,
     "metadata": {},
     "output_type": "execute_result"
    }
   ],
   "source": [
    "pulser.return_bike_details()"
   ]
  },
  {
   "cell_type": "markdown",
   "id": "127aff45-790d-455b-a3a5-8a29c99b6807",
   "metadata": {},
   "source": [
    "##Q2. Name the four pillars of OOPs."
   ]
  },
  {
   "cell_type": "code",
   "execution_count": 14,
   "id": "ed2d573a-0883-447f-9b04-7b5e1b444112",
   "metadata": {},
   "outputs": [],
   "source": [
    "## Ans 1) Abstraction 2)Encapsulation 3)Inheritance 4)Polymorphism"
   ]
  },
  {
   "cell_type": "code",
   "execution_count": 15,
   "id": "db685f1a-c39d-4093-aaea-fd0138e629ec",
   "metadata": {},
   "outputs": [],
   "source": [
    "##Explain why the __init__() function is used. Give a suitable example."
   ]
  },
  {
   "cell_type": "code",
   "execution_count": 17,
   "id": "f768e70a-23f5-4eec-9bd1-197832fa56af",
   "metadata": {},
   "outputs": [],
   "source": [
    "##Ans The __init__() function is a special method in Python classes and is automatically called when an object of the class is created. It is also known as a constructor and is used to initialize the attributes of the class."
   ]
  },
  {
   "cell_type": "code",
   "execution_count": 18,
   "id": "bc908a96-406e-4f92-b76c-7fb423e334ff",
   "metadata": {},
   "outputs": [],
   "source": [
    "##Example:"
   ]
  },
  {
   "cell_type": "code",
   "execution_count": 40,
   "id": "ec9f0307-27de-4324-9e4b-27530cb53f72",
   "metadata": {},
   "outputs": [],
   "source": [
    "class laptop:\n",
    "    def __init__(self,brand,model, year ):\n",
    "        self.brand = brand\n",
    "        self.model = model\n",
    "        self.year = year\n",
    "   \n",
    "    def return_laptop_details(self):\n",
    "        return self.brand,self.model,self.year"
   ]
  },
  {
   "cell_type": "code",
   "execution_count": 41,
   "id": "d8928b74-fd19-470a-8cbe-aec4125379cc",
   "metadata": {},
   "outputs": [],
   "source": [
    "asus=laptop(\"vivo_book15\",\"i5\",2023)"
   ]
  },
  {
   "cell_type": "code",
   "execution_count": 42,
   "id": "38187de7-47c0-48a0-a328-cdbcd6133f40",
   "metadata": {},
   "outputs": [
    {
     "data": {
      "text/plain": [
       "('vivo_book15', 'i5', 2023)"
      ]
     },
     "execution_count": 42,
     "metadata": {},
     "output_type": "execute_result"
    }
   ],
   "source": [
    "asus.return_laptop_details()"
   ]
  },
  {
   "cell_type": "markdown",
   "id": "526f77e4-2e33-4ac2-9ecf-ce9bc5f8e69c",
   "metadata": {},
   "source": [
    "##Q4. Why self is used in OOPs?"
   ]
  },
  {
   "cell_type": "code",
   "execution_count": 1,
   "id": "066aa2d9-008f-4315-8383-a37bcdcc9519",
   "metadata": {},
   "outputs": [],
   "source": [
    "##Ans##its not compulsory to use \"self' we can use any other name like '\"azzu\", david or any other name."
   ]
  },
  {
   "cell_type": "code",
   "execution_count": null,
   "id": "ff91e230-abaa-4749-a16d-f13168aff2c2",
   "metadata": {},
   "outputs": [],
   "source": [
    "##Q5. What is inheritance? Give an example for each type of inheritance."
   ]
  },
  {
   "cell_type": "code",
   "execution_count": 47,
   "id": "a14ed475-c778-4a2b-affb-b98cc4ff187f",
   "metadata": {},
   "outputs": [],
   "source": [
    "##Ans ##Inheritance enables the reuse of code and creates a hierarchy of classes, where a subclass can inherit the attributes and methods of its superclass and add or override those attributes and methods to provide its own unique functionality. This allows for a clean and efficient way to define new classes, as well as to simplify the maintenance and modification of existing code."
   ]
  },
  {
   "cell_type": "markdown",
   "id": "347091a2-d9be-4db6-9754-a814dd6bbf41",
   "metadata": {},
   "source": [
    "##example of Single inheritance:"
   ]
  },
  {
   "cell_type": "code",
   "execution_count": 12,
   "id": "7fc41d8d-9589-4d8d-bf56-8e97a7eae7e8",
   "metadata": {},
   "outputs": [],
   "source": [
    "class Animal:\n",
    "    def __init__(self,name,species):\n",
    "        self.name= name\n",
    "        self.species= species\n",
    "     \n",
    "        \n",
    "    def make_sound(self):\n",
    "        print(\"Some animal sound\")\n",
    "class Dog(Animal):\n",
    "    def __init__(self,name,breed):\n",
    "        Animal__init__(self,name,breed=\"Dog\")\n",
    "        self.breed=breed\n",
    "    def make_sound(self):\n",
    "        print(\"woof!\")"
   ]
  },
  {
   "cell_type": "markdown",
   "id": "0959c335-3701-4f1a-a6e1-e4eaa39bb278",
   "metadata": {},
   "source": [
    "Example of Multiple inheritance:"
   ]
  },
  {
   "cell_type": "code",
   "execution_count": 17,
   "id": "082afac8-f84a-46f6-b0f9-849fed44050b",
   "metadata": {},
   "outputs": [],
   "source": [
    "class Animal:\n",
    "    def __init__(self,name,species):\n",
    "        self.name=name\n",
    "        self.species=species\n",
    "    def make_sound(self):\n",
    "        print(\"some Animal sound\")\n",
    "class Carnivorse:\n",
    "    def __init__(self,prey):\n",
    "        self.prey=prey\n",
    "    \n",
    "    def hunt(self):\n",
    "        print(f\"Hunting for{self.prey}\")\n",
    "class Lion(Animal,Carnivorse):\n",
    "    def __init__(self,name,prey):\n",
    "        Animal.__init__(self,name,species=\"Lion\")\n",
    "        Carnivore.__init__(self,prey)\n",
    "    def make_sound(self):\n",
    "        print(\"Roar!\")"
   ]
  },
  {
   "cell_type": "raw",
   "id": "7a9ec917-284c-4444-acf6-00997d5e9ec0",
   "metadata": {},
   "source": [
    "Example of Multi-level inheritance:"
   ]
  },
  {
   "cell_type": "code",
   "execution_count": 3,
   "id": "16e2ff63-1b4e-475c-81bd-d649977e0388",
   "metadata": {},
   "outputs": [],
   "source": [
    "class Animal:\n",
    "    def __init__(self,name,species):\n",
    "        self.name=name\n",
    "        self.species=species\n",
    "    def make_sound(self):\n",
    "        print(\"some Animal sound\")\n",
    "class Mammal(Animal):\n",
    "    def __init__(self,name,breed):\n",
    "        Animal.__init__(self,name,species=\"Mammal\")\n",
    "        self.breed=breed\n",
    "    \n",
    "    def make_sound(self):\n",
    "        print(\"some Animal sound\")\n",
    "class Dog(Mammal):\n",
    "    def __init__(self,name,breed):\n",
    "        Mammal.__init__(self,name,breed)\n",
    "        \n",
    "    def make_sound(self):\n",
    "        print(\"Roar!\")"
   ]
  },
  {
   "cell_type": "code",
   "execution_count": null,
   "id": "2df4ecb0-0669-4be6-9d66-b65d0d18621f",
   "metadata": {},
   "outputs": [],
   "source": []
  },
  {
   "cell_type": "markdown",
   "id": "a0d01709-9dd2-481a-9d9b-f6e6b66ce631",
   "metadata": {},
   "source": [
    "Hierarchical inheritance:"
   ]
  },
  {
   "cell_type": "code",
   "execution_count": 13,
   "id": "b1bba5aa-c092-4f45-942b-c3b631d61dea",
   "metadata": {},
   "outputs": [],
   "source": [
    "class Animal:\n",
    "    def __init__(self,name,species):\n",
    "        self.name=name\n",
    "        self.species=species\n",
    "    def make_sound(self):\n",
    "        print(\"Some generic animal sound\")\n",
    "class Dog(Animal):\n",
    "    def __init__(self,name,species=\"Dog\"):\n",
    "        Animal.__init__(self,name,species=\"Dog\")\n",
    "        self.breed=breed\n",
    "        \n",
    "    \n",
    "    def make_sound(self):\n",
    "        print(\"Bark\")\n",
    "        \n",
    "class Cat(Animal):\n",
    "    def __init__(self,name,breed):\n",
    "        Animal.__init__(self,name,species=\"Cat\")\n",
    "        /elf.breed=breed\n",
    "def make_sound(self):\n",
    "    print(\"Meow\")"
   ]
  },
  {
   "cell_type": "code",
   "execution_count": null,
   "id": "d8dba6dc-2fd7-45c6-a7fc-7d7a609a9ac2",
   "metadata": {},
   "outputs": [],
   "source": []
  }
 ],
 "metadata": {
  "kernelspec": {
   "display_name": "Python 3 (ipykernel)",
   "language": "python",
   "name": "python3"
  },
  "language_info": {
   "codemirror_mode": {
    "name": "ipython",
    "version": 3
   },
   "file_extension": ".py",
   "mimetype": "text/x-python",
   "name": "python",
   "nbconvert_exporter": "python",
   "pygments_lexer": "ipython3",
   "version": "3.10.8"
  }
 },
 "nbformat": 4,
 "nbformat_minor": 5
}
