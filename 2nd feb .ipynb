{
 "cells": [
  {
   "cell_type": "markdown",
   "id": "9ca1ac99-816a-4bce-99d8-3ce6d20aed6e",
   "metadata": {},
   "source": [
    "##Q1. Explain with an example each when to use a for loop and a while loop."
   ]
  },
  {
   "cell_type": "code",
   "execution_count": 4,
   "id": "fc94f737-8c4d-441c-af14-25289a2f20b9",
   "metadata": {},
   "outputs": [],
   "source": [
    "## for loop ..for loop is give output one by one until last element .."
   ]
  },
  {
   "cell_type": "code",
   "execution_count": 2,
   "id": "221dd32a-688e-4626-b1e4-76afca47603e",
   "metadata": {},
   "outputs": [],
   "source": [
    "l=[1,2,3,4,5,6,7,8]"
   ]
  },
  {
   "cell_type": "code",
   "execution_count": 3,
   "id": "eb5be2bb-35bb-4ef1-a428-83571446a85c",
   "metadata": {},
   "outputs": [
    {
     "name": "stdout",
     "output_type": "stream",
     "text": [
      "1\n",
      "2\n",
      "3\n",
      "4\n",
      "5\n",
      "6\n",
      "7\n",
      "8\n"
     ]
    }
   ],
   "source": [
    "for i in l :\n",
    "    print(i)"
   ]
  },
  {
   "cell_type": "markdown",
   "id": "fea3d14c-3f6b-4997-b63a-cb98093f5b8f",
   "metadata": {},
   "source": [
    "Q.2 while loop. while is check condition before enter in loop,if condition is false then while is not allow to enter in loop.while loop is run until the condition is false."
   ]
  },
  {
   "cell_type": "code",
   "execution_count": 7,
   "id": "ab4f5f8a-9692-4919-b62c-357f7c1e5a3b",
   "metadata": {},
   "outputs": [
    {
     "name": "stdout",
     "output_type": "stream",
     "text": [
      "1\n",
      "2\n",
      "3\n",
      "4\n",
      "5\n",
      "6\n",
      "7\n",
      "8\n",
      "9\n",
      "10\n"
     ]
    }
   ],
   "source": [
    "a=1\n",
    "while a<=10:\n",
    "    print(a)\n",
    "    a=a+1"
   ]
  },
  {
   "cell_type": "markdown",
   "id": "35f04208-4d77-49b2-9427-c9fc3aa7c6ea",
   "metadata": {},
   "source": [
    "##Q2. Write a python program to print the sum and product of the first 10 natural numbers using for\n",
    "#and while loop."
   ]
  },
  {
   "cell_type": "markdown",
   "id": "8f2cdfeb-a1f7-4f9d-a41e-09584f7155c9",
   "metadata": {},
   "source": [
    "##FOR LOOP"
   ]
  },
  {
   "cell_type": "code",
   "execution_count": 12,
   "id": "3c336029-6bc9-4574-9ee5-b94317685aff",
   "metadata": {},
   "outputs": [],
   "source": [
    "product=0\n",
    "l=[1,2,3,4,5,6,7,8]"
   ]
  },
  {
   "cell_type": "code",
   "execution_count": 13,
   "id": "7c9ff56c-d824-4b88-b782-8a0723e1ac31",
   "metadata": {},
   "outputs": [
    {
     "data": {
      "text/plain": [
       "36"
      ]
     },
     "execution_count": 13,
     "metadata": {},
     "output_type": "execute_result"
    }
   ],
   "source": [
    "for i in l:\n",
    "    product = product + i\n",
    "product"
   ]
  },
  {
   "cell_type": "markdown",
   "id": "6f298f03-d10a-443a-a489-465ec7d14d92",
   "metadata": {},
   "source": [
    "##while_loop"
   ]
  },
  {
   "cell_type": "code",
   "execution_count": 16,
   "id": "e8911ddb-1b07-4b28-ada0-07234588ef3e",
   "metadata": {},
   "outputs": [],
   "source": [
    "n=[1,2,3,4,5,6,7,8,9,10]\n",
    "product = 1\n",
    "\n",
    "while product <=10:\n",
    "    product = product + 1"
   ]
  },
  {
   "cell_type": "code",
   "execution_count": 17,
   "id": "397e0509-c9a5-4894-9a27-87e67b386b40",
   "metadata": {},
   "outputs": [],
   "source": [
    "##Q3\n"
   ]
  },
  {
   "cell_type": "code",
   "execution_count": 20,
   "id": "0b5f25b5-564a-4ef0-80c3-66c1e6f336ba",
   "metadata": {},
   "outputs": [
    {
     "name": "stdin",
     "output_type": "stream",
     "text": [
      "Enter your number consumed unit 311\n"
     ]
    },
    {
     "name": "stdout",
     "output_type": "stream",
     "text": [
      "Total Electricity bill is Rs: 2270.0\n"
     ]
    }
   ],
   "source": [
    "def electricity_bill(units):\n",
    "    if units <= 100 :\n",
    "        bill=units*4.5\n",
    "    elif  units <= 200:\n",
    "        bill = (100*4.5)+ ((units-100)*6)\n",
    "    elif  units <= 300 :\n",
    "        bill = (100*4.5)+(100*6)+((unit-200)*10)\n",
    "    else:\n",
    "        bill = (100*4.5)+(100*6)+(100*10)+( (units-300)*20)\n",
    "    return bill\n",
    "units=int(input(\"Enter your number consumed unit\"))\n",
    "print(\"Total Electricity bill is Rs:\",electricity_bill(units))"
   ]
  },
  {
   "cell_type": "markdown",
   "id": "9a05433c-627d-4934-86e7-da2361bb6f5b",
   "metadata": {},
   "source": [
    "###Q4. Create a list of numbers from 1 to 100. Use for loop and while loop to calculate the cube of each\n",
    "number and if the cube of that number is divisible by 4 or 5 then append that number in a list and print\n",
    "that list."
   ]
  },
  {
   "cell_type": "markdown",
   "id": "2693abc4-014c-40ab-9948-a45b5d23b401",
   "metadata": {},
   "source": [
    "##using for loop"
   ]
  },
  {
   "cell_type": "code",
   "execution_count": 31,
   "id": "ffe7f862-d193-4348-97c6-6955b34f2b48",
   "metadata": {},
   "outputs": [
    {
     "name": "stdout",
     "output_type": "stream",
     "text": [
      "Cubes by 4 or 5 (for loop): [2, 4, 5, 6, 8, 10, 12, 14, 15, 16, 18, 20, 22, 24, 25, 26, 28, 30, 32, 34, 35, 36, 38, 40, 42, 44, 45, 46, 48, 50, 52, 54, 55, 56, 58, 60, 62, 64, 65, 66, 68, 70, 72, 74, 75, 76, 78, 80, 82, 84, 85, 86, 88, 90, 92, 94, 95, 96, 98, 100]\n"
     ]
    }
   ],
   "source": [
    "cubes_by_4_or_5_for = []\n",
    "for i in range(1,101):\n",
    "    cube= i**3\n",
    "    if cube % 4== 0 or cube % 5==0:\n",
    "        cubes_by_4_or_5_for.append(i)\n",
    "print(\"Cubes by 4 or 5 (for loop):\", cubes_by_4_or_5_for)"
   ]
  },
  {
   "cell_type": "markdown",
   "id": "cbd25d20-c9b4-429c-834f-11cf11780b6b",
   "metadata": {},
   "source": [
    "# Using while loop\n"
   ]
  },
  {
   "cell_type": "code",
   "execution_count": 2,
   "id": "a1c6b1be-f811-4d8a-818f-4d2f1bafd992",
   "metadata": {},
   "outputs": [
    {
     "name": "stdout",
     "output_type": "stream",
     "text": [
      "Cubes by 4 or 5 (for loop): [2, 4, 5, 6, 8, 10, 12, 14, 15, 16, 18, 20, 22, 24, 25, 26, 28, 30, 32, 34, 35, 36, 38, 40, 42, 44, 45, 46, 48, 50, 52, 54, 55, 56, 58, 60, 62, 64, 65, 66, 68, 70, 72, 74, 75, 76, 78, 80, 82, 84, 85, 86, 88, 90, 92, 94, 95, 96, 98, 100]\n"
     ]
    }
   ],
   "source": [
    "cubes_by_4_or_5_while=[]\n",
    "i=1\n",
    "while i<=100:\n",
    "    cube=i**3\n",
    "    if cube % 4== 0 or cube % 5==0:\n",
    "\n",
    "        cubes_by_4_or_5_while.append(i)\n",
    "    i+=1\n",
    "print(\"Cubes by 4 or 5 (for loop):\", cubes_by_4_or_5_while)"
   ]
  },
  {
   "cell_type": "markdown",
   "id": "28698f15-18fa-4ed9-b68e-0cd00ee271e7",
   "metadata": {},
   "source": [
    "Q5. Write a program to filter count vowels in the below-given string.\n",
    "string = \"I want to become a data scientist\""
   ]
  },
  {
   "cell_type": "code",
   "execution_count": 22,
   "id": "75626f0e-fd51-4637-9c55-4eec7e94f617",
   "metadata": {},
   "outputs": [
    {
     "name": "stdout",
     "output_type": "stream",
     "text": [
      "The number of vowels in the string is: 12\n"
     ]
    }
   ],
   "source": [
    "def count_vowels(string):\n",
    "    vowels = \"aeiouAEIOU\"\n",
    "    count = 0\n",
    "    for char in string:\n",
    "        if char in vowels:\n",
    "            count +=1\n",
    "    return count\n",
    "string=\" i want to become a data scientist\"\n",
    "print(\"The number of vowels in the string is:\",count_vowels(string))\n"
   ]
  },
  {
   "cell_type": "code",
   "execution_count": null,
   "id": "3c8e8a5d-aa2b-44a5-a3d0-3d3b407d7349",
   "metadata": {},
   "outputs": [],
   "source": []
  }
 ],
 "metadata": {
  "kernelspec": {
   "display_name": "Python 3 (ipykernel)",
   "language": "python",
   "name": "python3"
  },
  "language_info": {
   "codemirror_mode": {
    "name": "ipython",
    "version": 3
   },
   "file_extension": ".py",
   "mimetype": "text/x-python",
   "name": "python",
   "nbconvert_exporter": "python",
   "pygments_lexer": "ipython3",
   "version": "3.10.8"
  }
 },
 "nbformat": 4,
 "nbformat_minor": 5
}
