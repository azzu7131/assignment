{
 "cells": [
  {
   "cell_type": "markdown",
   "id": "617c56c6-78ee-4726-8d47-642543687e38",
   "metadata": {},
   "source": [
    "##Q1. Create a python program to sort the given list of tuples based on integer value using a  lambda function"
   ]
  },
  {
   "cell_type": "markdown",
   "id": "d424b501-d614-45b6-b6fc-ab5f10701bda",
   "metadata": {},
   "source": [
    "l=[('Sachin Tendulkar', 34357), ('Ricky Ponting', 27483), ('Jack Kallis', 25534), ('Virat Kohli', 24936)]"
   ]
  },
  {
   "cell_type": "code",
   "execution_count": 6,
   "id": "464a02ae-f60c-4c2e-9221-b79b63f0cf55",
   "metadata": {},
   "outputs": [
    {
     "name": "stdout",
     "output_type": "stream",
     "text": [
      "Sorted list of tupple based on interger value:\n",
      "Sachin Tendulkar : 34357\n",
      "Ricky Ponting : 27483\n",
      "Jack Kallis : 25534\n",
      "Virat Kohli : 24936\n"
     ]
    }
   ],
   "source": [
    "l=[('Sachin Tendulkar', 34357), ('Ricky Ponting', 27483), ('Jack Kallis', 25534), ('Virat Kohli', 24936)]\n",
    "sorted_list=sorted(l,key=lambda x:x[1],reverse=True)\n",
    "\n",
    "print(\"Sorted list of tupple based on interger value:\")\n",
    "for item in sorted_list:\n",
    "    print(item[0],\":\",item[1])"
   ]
  },
  {
   "cell_type": "markdown",
   "id": "6018f5fb-9f12-4b53-b311-6b3e37875c04",
   "metadata": {},
   "source": [
    "Q2. Write a Python Program to find the squares of all the numbers in the given list of integers using\n",
    "lambda and map functions."
   ]
  },
  {
   "cell_type": "markdown",
   "id": "824c9306-a4c1-4e78-96e8-50bfc1814e1e",
   "metadata": {},
   "source": [
    "l=[1, 2, 3, 4, 5, 6, 7, 8, 9, 10]"
   ]
  },
  {
   "cell_type": "code",
   "execution_count": 8,
   "id": "57f4cd97-6ab1-4a3e-928a-2f78d64e53d0",
   "metadata": {},
   "outputs": [],
   "source": [
    "def sq(x):\n",
    "    return x**2"
   ]
  },
  {
   "cell_type": "code",
   "execution_count": 11,
   "id": "700153ae-fb73-43a5-b5c7-27aaba0a90c1",
   "metadata": {},
   "outputs": [
    {
     "data": {
      "text/plain": [
       "[1, 4, 9, 16, 25, 36, 49, 64, 81, 100]"
      ]
     },
     "execution_count": 11,
     "metadata": {},
     "output_type": "execute_result"
    }
   ],
   "source": [
    "list(map(lambda x:x**2,l))"
   ]
  },
  {
   "cell_type": "markdown",
   "id": "2716cd18-1533-4928-aa72-f492cd638424",
   "metadata": {},
   "source": [
    "Q3. Write a python program to convert the given list of integers into a tuple of strings. Use map and\n",
    "lambda functions"
   ]
  },
  {
   "cell_type": "code",
   "execution_count": 13,
   "id": "0c69f2f1-870b-473e-a5e2-3b35997a0494",
   "metadata": {},
   "outputs": [
    {
     "name": "stdout",
     "output_type": "stream",
     "text": [
      "Tuple of strings: ('1', '2', '3', '4', '5', '6', '7', '8', '9', '10')\n"
     ]
    }
   ],
   "source": [
    "numbers= [1,2,3,4,5,6,7,8,9,10]\n",
    "strings = tuple(map(lambda x: str(x),numbers))\n",
    "print (\"Tuple of strings:\",strings)"
   ]
  },
  {
   "cell_type": "markdown",
   "id": "621542a7-5345-493c-96b0-ab6def4e8331",
   "metadata": {},
   "source": [
    "Q4. Write a python program using reduce function to compute the product of a list containing numbers\n",
    "from 1 to 25."
   ]
  },
  {
   "cell_type": "code",
   "execution_count": 18,
   "id": "9a086e4a-3c4f-416d-9298-bd8cb1569333",
   "metadata": {},
   "outputs": [
    {
     "name": "stdout",
     "output_type": "stream",
     "text": [
      "Product of numbers from 1 to  25 : 15511210043330985984000000\n"
     ]
    }
   ],
   "source": [
    "from functools import reduce\n",
    "\n",
    "numbers=[i for i in range(1,26)]\n",
    "product = reduce(lambda x , y:x*y,numbers)\n",
    "print (\"Product of numbers from 1 to  25 :\", product)"
   ]
  },
  {
   "cell_type": "markdown",
   "id": "89b066fb-fa31-45c2-9a17-6ec60c95200d",
   "metadata": {},
   "source": [
    "Q5. Write a python program to filter the numbers in a given list that are divisible by 2 and 3 using the\n",
    "filter function."
   ]
  },
  {
   "cell_type": "code",
   "execution_count": 22,
   "id": "d2374313-d04f-457f-b82b-26e21b5b9e0d",
   "metadata": {},
   "outputs": [
    {
     "name": "stdout",
     "output_type": "stream",
     "text": [
      "Numbers is Divisible 2 and 3 : [6, 60, 90, 120]\n"
     ]
    }
   ],
   "source": [
    "numbers =[2, 3, 6, 9, 27, 60, 90, 120, 55, 46]\n",
    "def is_divisible(num):\n",
    "    return (num %2 ==0) and (num%3 ==0)\n",
    "result = list(filter(is_divisible,numbers))\n",
    "print(\"Numbers is Divisible 2 and 3 :\",result)"
   ]
  },
  {
   "cell_type": "markdown",
   "id": "ce445875-6986-4339-8875-c5af706e0cfe",
   "metadata": {},
   "source": [
    "Q6. Write a python program to find palindromes in the given list of strings using lambda and filter\n",
    "function."
   ]
  },
  {
   "cell_type": "code",
   "execution_count": 1,
   "id": "f7ad3314-0a39-4efd-b1e9-ed8400aa5c7d",
   "metadata": {},
   "outputs": [
    {
     "name": "stdout",
     "output_type": "stream",
     "text": [
      "Palindromes: ['php', 'aba', 'radar', 'level']\n"
     ]
    }
   ],
   "source": [
    "words= ['python', 'php', 'aba', 'radar', 'level']\n",
    "result=list(filter(lambda x:x==x[::-1],words))\n",
    "print(\"Palindromes:\",result)"
   ]
  },
  {
   "cell_type": "code",
   "execution_count": null,
   "id": "4179d635-a429-4cd1-9b7d-3a995a34e568",
   "metadata": {},
   "outputs": [],
   "source": []
  },
  {
   "cell_type": "code",
   "execution_count": null,
   "id": "da39f298-b882-4272-adf5-77961ea32853",
   "metadata": {},
   "outputs": [],
   "source": []
  },
  {
   "cell_type": "markdown",
   "id": "8e88daba-a1b6-4ed5-8abe-89e9230ca31b",
   "metadata": {},
   "source": []
  }
 ],
 "metadata": {
  "kernelspec": {
   "display_name": "Python 3 (ipykernel)",
   "language": "python",
   "name": "python3"
  },
  "language_info": {
   "codemirror_mode": {
    "name": "ipython",
    "version": 3
   },
   "file_extension": ".py",
   "mimetype": "text/x-python",
   "name": "python",
   "nbconvert_exporter": "python",
   "pygments_lexer": "ipython3",
   "version": "3.10.8"
  }
 },
 "nbformat": 4,
 "nbformat_minor": 5
}
