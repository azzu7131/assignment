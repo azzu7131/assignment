{
 "cells": [
  {
   "cell_type": "code",
   "execution_count": null,
   "id": "95c059c0-ef3c-4ad9-902d-57d10e93c294",
   "metadata": {},
   "outputs": [],
   "source": [
    "1. Write a program to accept percentage from the user and display the grade according to percentage"
   ]
  },
  {
   "cell_type": "code",
   "execution_count": 7,
   "id": "be09ab23-0634-4a72-ab3f-2b5b306e2f02",
   "metadata": {},
   "outputs": [
    {
     "name": "stdin",
     "output_type": "stream",
     "text": [
      "Enter Your percentage 50\n"
     ]
    },
    {
     "name": "stdout",
     "output_type": "stream",
     "text": [
      "You got D Grade\n"
     ]
    }
   ],
   "source": [
    "marks=float(input(\"Enter Your percentage\"))\n",
    "if marks>=90 :\n",
    "    print(\"You got A Grade\")\n",
    "elif marks>=80  :\n",
    "    print(\"You got B Grade\")\n",
    "elif marks>=70  :\n",
    "    print(\"You got C Grade\")\n",
    "elif marks <60:\n",
    "    print(\"You got D Grade\")"
   ]
  },
  {
   "cell_type": "code",
   "execution_count": null,
   "id": "672333ee-20a8-40c9-a9d8-991d00a5af03",
   "metadata": {},
   "outputs": [],
   "source": [
    "2 Write a program to accept the cost price of a bike and display the road tax to be paid according to the  criteria"
   ]
  },
  {
   "cell_type": "code",
   "execution_count": 6,
   "id": "b93eb644-6860-42b7-a7a6-d9d5d9915b42",
   "metadata": {},
   "outputs": [
    {
     "name": "stdin",
     "output_type": "stream",
     "text": [
      "Enter cost value 10\n"
     ]
    },
    {
     "name": "stdout",
     "output_type": "stream",
     "text": [
      "road tax to be 10% 1.0 rupees\n"
     ]
    }
   ],
   "source": [
    "cost=float(input(\"Enter cost value\"))\n",
    "if cost>=100000 :\n",
    "    tax=cost * 0.15 \n",
    "    print(\"road tax to be 15%\",tax, \"rupees\")\n",
    "elif cost>=50000 or cost<=100000 :\n",
    "    tax=cost*0.10 \n",
    "    print(\"road tax to be 10%\",tax,\"rupees\")\n",
    "else:\n",
    "    tax=cost*0.05\n",
    "    print(\"road tax to be 5%\",tax,\"rupees\")"
   ]
  },
  {
   "cell_type": "code",
   "execution_count": null,
   "id": "e543cb24-de60-4db4-9f90-c0d11e7a7765",
   "metadata": {},
   "outputs": [],
   "source": [
    "3. Accept any city from the user and display monuments of that city."
   ]
  },
  {
   "cell_type": "code",
   "execution_count": 11,
   "id": "a9c223ce-369e-4602-b89d-83c00ad3e6ce",
   "metadata": {},
   "outputs": [
    {
     "name": "stdin",
     "output_type": "stream",
     "text": [
      "Enter name of Monument Jal Mahal\n"
     ]
    },
    {
     "name": "stdout",
     "output_type": "stream",
     "text": [
      "This Monument is in Jaipur\n"
     ]
    }
   ],
   "source": [
    "city=input(\"Enter name of Monument\")\n",
    "if city==\"Red Fort\":\n",
    "    print(\"This Monument is in Delhi\")\n",
    "elif city==\"Taj Mahal\":\n",
    "     print(\"This Monument is in Agra\")\n",
    "elif city==\"Jal Mahal\":\n",
    "    print(\"This Monument is in Jaipur\")"
   ]
  },
  {
   "cell_type": "code",
   "execution_count": 1,
   "id": "928a32db-61b1-4e08-b77f-295cbb2e68ec",
   "metadata": {},
   "outputs": [],
   "source": [
    "##4. Check how many times a given number can be divided by 3 before it is less than or equal to 10. \n"
   ]
  },
  {
   "cell_type": "code",
   "execution_count": 2,
   "id": "db8340c1-e281-4f71-b9ce-b9af1907c893",
   "metadata": {},
   "outputs": [],
   "source": [
    "def divide_by_3(n):\n",
    "    count = 0\n",
    "    while n > 10:\n",
    "        n = n / 3\n",
    "        count += 1\n",
    "    return count"
   ]
  },
  {
   "cell_type": "code",
   "execution_count": 6,
   "id": "4ade3e25-6a57-42f5-b3d7-a87fb39d026e",
   "metadata": {},
   "outputs": [],
   "source": [
    "##5. Why and When to Use while Loop in Python give a detailed description with example "
   ]
  },
  {
   "cell_type": "code",
   "execution_count": 3,
   "id": "9c38bb05-320b-4c8b-a931-d6999e3b3e42",
   "metadata": {},
   "outputs": [],
   "source": [
    "##Ans...The while loop in Python is used to repeatedly execute a block of code as long as a given condition is true."
   ]
  },
  {
   "cell_type": "code",
   "execution_count": 4,
   "id": "acdb8f9f-ad57-4fd9-a6da-627578fec028",
   "metadata": {},
   "outputs": [],
   "source": [
    "##Example.."
   ]
  },
  {
   "cell_type": "code",
   "execution_count": 7,
   "id": "9c2a75f2-f997-410a-a483-81c0e70a41cb",
   "metadata": {},
   "outputs": [
    {
     "name": "stdout",
     "output_type": "stream",
     "text": [
      "11\n",
      "12\n",
      "13\n",
      "14\n",
      "15\n",
      "16\n",
      "17\n",
      "18\n",
      "19\n",
      "20\n"
     ]
    }
   ],
   "source": [
    "\n",
    "i = 11\n",
    "\n",
    "while i <= 20:\n",
    "    print(i)\n",
    "    i += 1"
   ]
  },
  {
   "cell_type": "code",
   "execution_count": 9,
   "id": "44d5441d-ebb0-4f66-96d0-535f42a67b09",
   "metadata": {},
   "outputs": [],
   "source": [
    "##6.Use nested while loop to print 3 different pattern. \n"
   ]
  },
  {
   "cell_type": "code",
   "execution_count": 10,
   "id": "14a351f1-e2ca-4c51-9d74-415b4d1e9f5b",
   "metadata": {},
   "outputs": [],
   "source": [
    "##1.) inverse triangle pattern"
   ]
  },
  {
   "cell_type": "code",
   "execution_count": null,
   "id": "71ae2368-1fb2-4699-9738-bab808ba8cf6",
   "metadata": {},
   "outputs": [],
   "source": [
    "n = 5\n",
    "i = n\n",
    "\n",
    "while i >= 1:\n",
    "    j = i\n",
    "    while j >= 1:\n",
    "        print(\"*\", end=\"\")\n",
    "        j -= 1\n",
    "    print(\"\")\n"
   ]
  },
  {
   "cell_type": "code",
   "execution_count": null,
   "id": "707c7893-25dd-40f2-a673-af543e2b7e11",
   "metadata": {},
   "outputs": [],
   "source": [
    "##2 diomond pattern"
   ]
  },
  {
   "cell_type": "code",
   "execution_count": 1,
   "id": "afb9b878-59ce-48c6-b534-c6ea01bcff02",
   "metadata": {},
   "outputs": [
    {
     "name": "stdout",
     "output_type": "stream",
     "text": [
      "    *\n",
      "   ***\n",
      "  *****\n",
      " *******\n",
      "*********\n",
      " *******\n",
      "  *****\n",
      "   ***\n",
      "    *\n"
     ]
    }
   ],
   "source": [
    "n = 5\n",
    "\n",
    "for i in range(1, n + 1):\n",
    "    for j in range(n - i):\n",
    "        print(\" \", end=\"\")\n",
    "    for j in range(2 * i - 1):\n",
    "        print(\"*\", end=\"\")\n",
    "    print(\"\")\n",
    "\n",
    "for i in range(n - 1, 0, -1):\n",
    "    for j in range(n - i):\n",
    "        print(\" \", end=\"\")\n",
    "    for j in range(2 * i - 1):\n",
    "        print(\"*\", end=\"\")\n",
    "    print(\"\")"
   ]
  },
  {
   "cell_type": "code",
   "execution_count": 2,
   "id": "cf7d89bf-339b-49fe-9b33-c246fd0cd45c",
   "metadata": {},
   "outputs": [],
   "source": [
    "##3) triangle pattern:"
   ]
  },
  {
   "cell_type": "code",
   "execution_count": 3,
   "id": "d1cb177f-f418-43c6-80db-3fd8d71e6db8",
   "metadata": {},
   "outputs": [
    {
     "name": "stdout",
     "output_type": "stream",
     "text": [
      "*\n",
      "**\n",
      "***\n",
      "****\n",
      "*****\n"
     ]
    }
   ],
   "source": [
    "n = 5\n",
    "i = 1\n",
    "\n",
    "while i <= n:\n",
    "    j = 1\n",
    "    while j <= i:\n",
    "        print(\"*\", end=\"\")\n",
    "        j += 1\n",
    "    print(\"\")\n",
    "    i += 1\n"
   ]
  },
  {
   "cell_type": "code",
   "execution_count": 6,
   "id": "249d5b43-788b-4d0d-b7b0-f3d103a5eeba",
   "metadata": {},
   "outputs": [],
   "source": [
    "##7 Reverse a while loop to display numbers from 10 to 1. "
   ]
  },
  {
   "cell_type": "code",
   "execution_count": 10,
   "id": "a1ff23e3-1e7b-47e2-b263-63c3d8aed2a6",
   "metadata": {},
   "outputs": [
    {
     "name": "stdout",
     "output_type": "stream",
     "text": [
      "100\n",
      "99\n",
      "98\n",
      "97\n",
      "96\n",
      "95\n",
      "94\n",
      "93\n",
      "92\n",
      "91\n",
      "90\n"
     ]
    }
   ],
   "source": [
    "i = 100\n",
    "\n",
    "while i >= 90:\n",
    "    print(i)\n",
    "    i -= 1\n"
   ]
  },
  {
   "cell_type": "code",
   "execution_count": null,
   "id": "937cd5a9-140a-41f0-9df9-0ad3a6c2bc2e",
   "metadata": {},
   "outputs": [],
   "source": []
  }
 ],
 "metadata": {
  "kernelspec": {
   "display_name": "Python 3 (ipykernel)",
   "language": "python",
   "name": "python3"
  },
  "language_info": {
   "codemirror_mode": {
    "name": "ipython",
    "version": 3
   },
   "file_extension": ".py",
   "mimetype": "text/x-python",
   "name": "python",
   "nbconvert_exporter": "python",
   "pygments_lexer": "ipython3",
   "version": "3.10.8"
  }
 },
 "nbformat": 4,
 "nbformat_minor": 5
}
