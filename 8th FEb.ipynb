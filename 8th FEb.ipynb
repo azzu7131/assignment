{
 "cells": [
  {
   "cell_type": "markdown",
   "id": "7b7ac62a-feaf-46c4-bea9-d879fdf02282",
   "metadata": {},
   "source": [
    "Q1. What is Abstraction in OOps? Explain with an example."
   ]
  },
  {
   "cell_type": "code",
   "execution_count": null,
   "id": "67804dc0-9703-4bbe-a429-2dff0f11d720",
   "metadata": {},
   "outputs": [],
   "source": [
    "Abtraction is Obcject _Oriented Programming is a mechanism of hiding the implemention details from user .its shows only neccesory imformation to the user."
   ]
  },
  {
   "cell_type": "code",
   "execution_count": 1,
   "id": "7dfc6997-35a7-4002-a914-672fc63aa568",
   "metadata": {},
   "outputs": [],
   "source": [
    "class computer_engineering:\n",
    "    def syllabus (self):\n",
    "        print(\"this is my syllsbus of computer engineering\")\n",
    "        "
   ]
  },
  {
   "cell_type": "code",
   "execution_count": 2,
   "id": "ba75da2b-2ca0-4f9f-ba2c-801910045b28",
   "metadata": {},
   "outputs": [],
   "source": [
    "class civil_engineering:\n",
    "    def syllabus (self):\n",
    "        print(\"this is my syllsbus of civil engineering\")\n",
    "        "
   ]
  },
  {
   "cell_type": "code",
   "execution_count": 3,
   "id": "6b812263-8199-4012-b79c-8d227d7ab8e1",
   "metadata": {},
   "outputs": [],
   "source": [
    "def class_parcer(class_obj):\n",
    "    for i in class_obj:\n",
    "        i.syllabus()"
   ]
  },
  {
   "cell_type": "code",
   "execution_count": 4,
   "id": "267277af-f51a-4ed1-8816-322caadb5d2c",
   "metadata": {},
   "outputs": [],
   "source": [
    "computer_engineering= computer_engineering()"
   ]
  },
  {
   "cell_type": "code",
   "execution_count": 5,
   "id": "539aad4d-9302-413e-b5f6-aa816cf82d8e",
   "metadata": {},
   "outputs": [],
   "source": [
    "civil_engineering= civil_engineering()"
   ]
  },
  {
   "cell_type": "code",
   "execution_count": 10,
   "id": "f8bee003-b0ab-4ab1-87e8-9de7684fa6c8",
   "metadata": {},
   "outputs": [],
   "source": [
    "class_obj =[computer_engineering,civil_engineering]"
   ]
  },
  {
   "cell_type": "code",
   "execution_count": 11,
   "id": "f9a854aa-773c-45d9-9470-9d7184936e54",
   "metadata": {},
   "outputs": [
    {
     "name": "stdout",
     "output_type": "stream",
     "text": [
      "this is my syllsbus of computer engineering\n",
      "this is my syllsbus of civil engineering\n"
     ]
    }
   ],
   "source": [
    "class_parcer(class_obj)"
   ]
  },
  {
   "cell_type": "markdown",
   "id": "f22171f8-3e76-4e45-b71c-0fc08226db29",
   "metadata": {},
   "source": [
    "Q2. Differentiate between Abstraction and Encapsulation. Explain with an example."
   ]
  },
  {
   "cell_type": "markdown",
   "id": "99bced91-944f-4d68-94c0-5555d444cb48",
   "metadata": {},
   "source": [
    "#Abstraction and encapsulation is important things in object oriented programming(OPP).in Abstraction we hind details of system whichh exposrd bt user\n",
    ".In"
   ]
  },
  {
   "cell_type": "markdown",
   "id": "254d0a8c-ba26-4138-86c6-361a6083d04a",
   "metadata": {},
   "source": [
    "Example of Abstraction"
   ]
  },
  {
   "cell_type": "code",
   "execution_count": null,
   "id": "8762f40c-8a03-48f5-85c2-dae80c961774",
   "metadata": {},
   "outputs": [],
   "source": [
    "class computer_engineering:\n",
    "    def syllabus (self):\n",
    "        print(\"this is my syllsbus of computer engineering\")\n",
    "\n",
    "class civil_engineering:\n",
    "    def syllabus (self):\n",
    "        print(\"this is my syllsbus of civil engineering\")\n",
    "def class_parcer(class_obj):\n",
    "    for i in class_obj:\n",
    "        i.syllabus()        "
   ]
  },
  {
   "cell_type": "code",
   "execution_count": null,
   "id": "d2e49790-cec0-43b4-babc-eb5910057d4e",
   "metadata": {},
   "outputs": [],
   "source": [
    "computer_engineering= computer_engineering()\n"
   ]
  },
  {
   "cell_type": "code",
   "execution_count": null,
   "id": "c58f13cc-197f-41ff-9441-68503a79daf1",
   "metadata": {},
   "outputs": [],
   "source": [
    "civil_engineering= civil_engineering()"
   ]
  },
  {
   "cell_type": "markdown",
   "id": "f1cc7686-99c4-4a3e-96ec-9b231039407c",
   "metadata": {},
   "source": [
    "#In Encapsulation is proccing hidng the internal details of  abjectfom the out side world providing a controlled interface for interacting with the object Encapsulation help to prevent the outsiede world from interfering with internal working of an object and makes it easier to maintain theobject over time."
   ]
  },
  {
   "cell_type": "code",
   "execution_count": null,
   "id": "d6547190-d5b4-4c2c-838f-b9369012eb3d",
   "metadata": {},
   "outputs": [],
   "source": [
    "Example of Ecapsulation\n"
   ]
  },
  {
   "cell_type": "code",
   "execution_count": null,
   "id": "a7b84776-3be5-4f4c-b73c-2d5b08ed7237",
   "metadata": {},
   "outputs": [],
   "source": [
    "class car:\n",
    "    def __init__(self, year ,make,model,speed):\n",
    "        \n",
    "        self.__year = year\n",
    "        self.__make= make\n",
    "        self.__model=model\n",
    "        self.__speed=0\n",
    "    def set_speed(self,speed):\n",
    "        self.__speed =0 if speed < 0 else speed\n",
    "        \n",
    "    def  get_speed(self):\n",
    "        return self.__speed"
   ]
  },
  {
   "cell_type": "markdown",
   "id": "437ab275-d232-4a3b-a54e-0459cc53ca23",
   "metadata": {},
   "source": [
    "Q3. What is abc module in python? Why is it used?"
   ]
  },
  {
   "cell_type": "markdown",
   "id": "4429a274-0180-4cbb-ab22-d900a97d6983",
   "metadata": {},
   "source": [
    "The abc module in Python stands for \"Abstract Base Classes\". It provides an infrastructure for defining and working with abstract classes and interfaces in Python. An abstract class is a class that cannot be instantiated, but instead defines a blueprint for its subclasses to follow.\n",
    "\n",
    "\n",
    ":it uses for Defining common function that can be iherited by multi subclases.:\n",
    "\n",
    ":common interface for a set of retated classses.\n",
    "\n",
    "\n",
    ":Providing a common set of methods attributes for group of objects,\n"
   ]
  },
  {
   "cell_type": "markdown",
   "id": "e717f413-39aa-4976-a66c-65fd4a072201",
   "metadata": {},
   "source": [
    "Q4. How can we achieve data abstraction?"
   ]
  },
  {
   "cell_type": "markdown",
   "id": "bce1f810-d353-466c-b4b3-880dcc6a63e9",
   "metadata": {},
   "source": [
    "Data abstraction is concept in object oriented programming that allows programmers to hide the implemention details of class from outside world, and provide a simple and clear interface for working with objects class.\n",
    "\n",
    "1) Encapsulation :this is involves hiding the internal details of the class from the outside the world by making instance variables and methods of the class privete or protected.\n",
    "2) Abstraction : this is involves defining abstract classes and interfaces that provide a high-level descripton of the behavior and functionality of class, without providing any implemention details.\n",
    "3) inheritance: This involved creating new class that inherit from existing class and  can be modify or exted thier behavior ."
   ]
  },
  {
   "cell_type": "markdown",
   "id": "33bd6a40-f568-47d1-bffb-fd6537e0bb32",
   "metadata": {},
   "source": [
    "Q,5 Can we create an instance of an abstract class? Explain your answer.\n"
   ]
  },
  {
   "cell_type": "code",
   "execution_count": null,
   "id": "82a43074-b0b9-4b11-9891-f2f305774e50",
   "metadata": {},
   "outputs": [],
   "source": [
    "No this is not possible ,we cannot create an instance of abtract class in python .Abstract class is class that is desingned to be inherited by other classes , and provindes a blueprint for the behaviior and funcnality.\n",
    "class .An abbstract class is a that declare d with the \"abstract\" any keyword and contains at least one abstract method , which is a method without a body.\n",
    "An abstract class ,we are defiing a set of methods that must be implemented by concret sub class that we created."
   ]
  }
 ],
 "metadata": {
  "kernelspec": {
   "display_name": "Python 3 (ipykernel)",
   "language": "python",
   "name": "python3"
  },
  "language_info": {
   "codemirror_mode": {
    "name": "ipython",
    "version": 3
   },
   "file_extension": ".py",
   "mimetype": "text/x-python",
   "name": "python",
   "nbconvert_exporter": "python",
   "pygments_lexer": "ipython3",
   "version": "3.10.8"
  }
 },
 "nbformat": 4,
 "nbformat_minor": 5
}
